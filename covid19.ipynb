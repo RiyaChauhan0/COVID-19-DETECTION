{
  "nbformat": 4,
  "nbformat_minor": 0,
  "metadata": {
    "colab": {
      "provenance": [],
      "collapsed_sections": []
    },
    "kernelspec": {
      "name": "python3",
      "display_name": "Python 3"
    },
    "language_info": {
      "name": "python"
    }
  },
  "cells": [
    {
      "cell_type": "code",
      "execution_count": null,
      "metadata": {
        "colab": {
          "base_uri": "https://localhost:8080/"
        },
        "id": "YY_Tvoje_EcG",
        "outputId": "507deb4c-d8e3-4ea6-ef0b-9a2d6ee004bb"
      },
      "outputs": [
        {
          "output_type": "stream",
          "name": "stdout",
          "text": [
            "Looking in indexes: https://pypi.org/simple, https://us-python.pkg.dev/colab-wheels/public/simple/\n",
            "Requirement already satisfied: tensorflow in /usr/local/lib/python3.7/dist-packages (2.9.2)\n",
            "Requirement already satisfied: absl-py>=1.0.0 in /usr/local/lib/python3.7/dist-packages (from tensorflow) (1.3.0)\n",
            "Requirement already satisfied: google-pasta>=0.1.1 in /usr/local/lib/python3.7/dist-packages (from tensorflow) (0.2.0)\n",
            "Requirement already satisfied: typing-extensions>=3.6.6 in /usr/local/lib/python3.7/dist-packages (from tensorflow) (4.1.1)\n",
            "Requirement already satisfied: wrapt>=1.11.0 in /usr/local/lib/python3.7/dist-packages (from tensorflow) (1.14.1)\n",
            "Requirement already satisfied: astunparse>=1.6.0 in /usr/local/lib/python3.7/dist-packages (from tensorflow) (1.6.3)\n",
            "Requirement already satisfied: protobuf<3.20,>=3.9.2 in /usr/local/lib/python3.7/dist-packages (from tensorflow) (3.17.3)\n",
            "Requirement already satisfied: keras<2.10.0,>=2.9.0rc0 in /usr/local/lib/python3.7/dist-packages (from tensorflow) (2.9.0)\n",
            "Requirement already satisfied: libclang>=13.0.0 in /usr/local/lib/python3.7/dist-packages (from tensorflow) (14.0.6)\n",
            "Requirement already satisfied: grpcio<2.0,>=1.24.3 in /usr/local/lib/python3.7/dist-packages (from tensorflow) (1.50.0)\n",
            "Requirement already satisfied: numpy>=1.20 in /usr/local/lib/python3.7/dist-packages (from tensorflow) (1.21.6)\n",
            "Requirement already satisfied: gast<=0.4.0,>=0.2.1 in /usr/local/lib/python3.7/dist-packages (from tensorflow) (0.4.0)\n",
            "Requirement already satisfied: flatbuffers<2,>=1.12 in /usr/local/lib/python3.7/dist-packages (from tensorflow) (1.12)\n",
            "Requirement already satisfied: six>=1.12.0 in /usr/local/lib/python3.7/dist-packages (from tensorflow) (1.15.0)\n",
            "Requirement already satisfied: tensorflow-io-gcs-filesystem>=0.23.1 in /usr/local/lib/python3.7/dist-packages (from tensorflow) (0.27.0)\n",
            "Requirement already satisfied: tensorflow-estimator<2.10.0,>=2.9.0rc0 in /usr/local/lib/python3.7/dist-packages (from tensorflow) (2.9.0)\n",
            "Requirement already satisfied: h5py>=2.9.0 in /usr/local/lib/python3.7/dist-packages (from tensorflow) (3.1.0)\n",
            "Requirement already satisfied: packaging in /usr/local/lib/python3.7/dist-packages (from tensorflow) (21.3)\n",
            "Requirement already satisfied: termcolor>=1.1.0 in /usr/local/lib/python3.7/dist-packages (from tensorflow) (2.0.1)\n",
            "Requirement already satisfied: tensorboard<2.10,>=2.9 in /usr/local/lib/python3.7/dist-packages (from tensorflow) (2.9.1)\n",
            "Requirement already satisfied: opt-einsum>=2.3.2 in /usr/local/lib/python3.7/dist-packages (from tensorflow) (3.3.0)\n",
            "Requirement already satisfied: setuptools in /usr/local/lib/python3.7/dist-packages (from tensorflow) (57.4.0)\n",
            "Requirement already satisfied: keras-preprocessing>=1.1.1 in /usr/local/lib/python3.7/dist-packages (from tensorflow) (1.1.2)\n",
            "Requirement already satisfied: wheel<1.0,>=0.23.0 in /usr/local/lib/python3.7/dist-packages (from astunparse>=1.6.0->tensorflow) (0.37.1)\n",
            "Requirement already satisfied: cached-property in /usr/local/lib/python3.7/dist-packages (from h5py>=2.9.0->tensorflow) (1.5.2)\n",
            "Requirement already satisfied: requests<3,>=2.21.0 in /usr/local/lib/python3.7/dist-packages (from tensorboard<2.10,>=2.9->tensorflow) (2.23.0)\n",
            "Requirement already satisfied: google-auth<3,>=1.6.3 in /usr/local/lib/python3.7/dist-packages (from tensorboard<2.10,>=2.9->tensorflow) (1.35.0)\n",
            "Requirement already satisfied: tensorboard-data-server<0.7.0,>=0.6.0 in /usr/local/lib/python3.7/dist-packages (from tensorboard<2.10,>=2.9->tensorflow) (0.6.1)\n",
            "Requirement already satisfied: tensorboard-plugin-wit>=1.6.0 in /usr/local/lib/python3.7/dist-packages (from tensorboard<2.10,>=2.9->tensorflow) (1.8.1)\n",
            "Requirement already satisfied: markdown>=2.6.8 in /usr/local/lib/python3.7/dist-packages (from tensorboard<2.10,>=2.9->tensorflow) (3.4.1)\n",
            "Requirement already satisfied: werkzeug>=1.0.1 in /usr/local/lib/python3.7/dist-packages (from tensorboard<2.10,>=2.9->tensorflow) (1.0.1)\n",
            "Requirement already satisfied: google-auth-oauthlib<0.5,>=0.4.1 in /usr/local/lib/python3.7/dist-packages (from tensorboard<2.10,>=2.9->tensorflow) (0.4.6)\n",
            "Requirement already satisfied: pyasn1-modules>=0.2.1 in /usr/local/lib/python3.7/dist-packages (from google-auth<3,>=1.6.3->tensorboard<2.10,>=2.9->tensorflow) (0.2.8)\n",
            "Requirement already satisfied: rsa<5,>=3.1.4 in /usr/local/lib/python3.7/dist-packages (from google-auth<3,>=1.6.3->tensorboard<2.10,>=2.9->tensorflow) (4.9)\n",
            "Requirement already satisfied: cachetools<5.0,>=2.0.0 in /usr/local/lib/python3.7/dist-packages (from google-auth<3,>=1.6.3->tensorboard<2.10,>=2.9->tensorflow) (4.2.4)\n",
            "Requirement already satisfied: requests-oauthlib>=0.7.0 in /usr/local/lib/python3.7/dist-packages (from google-auth-oauthlib<0.5,>=0.4.1->tensorboard<2.10,>=2.9->tensorflow) (1.3.1)\n",
            "Requirement already satisfied: importlib-metadata>=4.4 in /usr/local/lib/python3.7/dist-packages (from markdown>=2.6.8->tensorboard<2.10,>=2.9->tensorflow) (4.13.0)\n",
            "Requirement already satisfied: zipp>=0.5 in /usr/local/lib/python3.7/dist-packages (from importlib-metadata>=4.4->markdown>=2.6.8->tensorboard<2.10,>=2.9->tensorflow) (3.10.0)\n",
            "Requirement already satisfied: pyasn1<0.5.0,>=0.4.6 in /usr/local/lib/python3.7/dist-packages (from pyasn1-modules>=0.2.1->google-auth<3,>=1.6.3->tensorboard<2.10,>=2.9->tensorflow) (0.4.8)\n",
            "Requirement already satisfied: chardet<4,>=3.0.2 in /usr/local/lib/python3.7/dist-packages (from requests<3,>=2.21.0->tensorboard<2.10,>=2.9->tensorflow) (3.0.4)\n",
            "Requirement already satisfied: urllib3!=1.25.0,!=1.25.1,<1.26,>=1.21.1 in /usr/local/lib/python3.7/dist-packages (from requests<3,>=2.21.0->tensorboard<2.10,>=2.9->tensorflow) (1.24.3)\n",
            "Requirement already satisfied: certifi>=2017.4.17 in /usr/local/lib/python3.7/dist-packages (from requests<3,>=2.21.0->tensorboard<2.10,>=2.9->tensorflow) (2022.9.24)\n",
            "Requirement already satisfied: idna<3,>=2.5 in /usr/local/lib/python3.7/dist-packages (from requests<3,>=2.21.0->tensorboard<2.10,>=2.9->tensorflow) (2.10)\n",
            "Requirement already satisfied: oauthlib>=3.0.0 in /usr/local/lib/python3.7/dist-packages (from requests-oauthlib>=0.7.0->google-auth-oauthlib<0.5,>=0.4.1->tensorboard<2.10,>=2.9->tensorflow) (3.2.2)\n",
            "Requirement already satisfied: pyparsing!=3.0.5,>=2.0.2 in /usr/local/lib/python3.7/dist-packages (from packaging->tensorflow) (3.0.9)\n"
          ]
        }
      ],
      "source": [
        "pip install tensorflow"
      ]
    },
    {
      "cell_type": "code",
      "source": [
        "pip install keras"
      ],
      "metadata": {
        "colab": {
          "base_uri": "https://localhost:8080/"
        },
        "id": "npLWXCxt_OA2",
        "outputId": "755f82b4-e9ef-4028-8ca1-ba4c41d20585"
      },
      "execution_count": null,
      "outputs": [
        {
          "output_type": "stream",
          "name": "stdout",
          "text": [
            "Looking in indexes: https://pypi.org/simple, https://us-python.pkg.dev/colab-wheels/public/simple/\n",
            "Requirement already satisfied: keras in /usr/local/lib/python3.7/dist-packages (2.9.0)\n"
          ]
        }
      ]
    },
    {
      "cell_type": "code",
      "source": [
        "pip install seaborn"
      ],
      "metadata": {
        "colab": {
          "base_uri": "https://localhost:8080/"
        },
        "id": "8AuibUkf_QYW",
        "outputId": "c02694ec-fa2d-4546-c139-b831d853cb96"
      },
      "execution_count": null,
      "outputs": [
        {
          "output_type": "stream",
          "name": "stdout",
          "text": [
            "Looking in indexes: https://pypi.org/simple, https://us-python.pkg.dev/colab-wheels/public/simple/\n",
            "Requirement already satisfied: seaborn in /usr/local/lib/python3.7/dist-packages (0.11.2)\n",
            "Requirement already satisfied: matplotlib>=2.2 in /usr/local/lib/python3.7/dist-packages (from seaborn) (3.2.2)\n",
            "Requirement already satisfied: numpy>=1.15 in /usr/local/lib/python3.7/dist-packages (from seaborn) (1.21.6)\n",
            "Requirement already satisfied: pandas>=0.23 in /usr/local/lib/python3.7/dist-packages (from seaborn) (1.3.5)\n",
            "Requirement already satisfied: scipy>=1.0 in /usr/local/lib/python3.7/dist-packages (from seaborn) (1.7.3)\n",
            "Requirement already satisfied: pyparsing!=2.0.4,!=2.1.2,!=2.1.6,>=2.0.1 in /usr/local/lib/python3.7/dist-packages (from matplotlib>=2.2->seaborn) (3.0.9)\n",
            "Requirement already satisfied: python-dateutil>=2.1 in /usr/local/lib/python3.7/dist-packages (from matplotlib>=2.2->seaborn) (2.8.2)\n",
            "Requirement already satisfied: kiwisolver>=1.0.1 in /usr/local/lib/python3.7/dist-packages (from matplotlib>=2.2->seaborn) (1.4.4)\n",
            "Requirement already satisfied: cycler>=0.10 in /usr/local/lib/python3.7/dist-packages (from matplotlib>=2.2->seaborn) (0.11.0)\n",
            "Requirement already satisfied: typing-extensions in /usr/local/lib/python3.7/dist-packages (from kiwisolver>=1.0.1->matplotlib>=2.2->seaborn) (4.1.1)\n",
            "Requirement already satisfied: pytz>=2017.3 in /usr/local/lib/python3.7/dist-packages (from pandas>=0.23->seaborn) (2022.5)\n",
            "Requirement already satisfied: six>=1.5 in /usr/local/lib/python3.7/dist-packages (from python-dateutil>=2.1->matplotlib>=2.2->seaborn) (1.15.0)\n"
          ]
        }
      ]
    },
    {
      "cell_type": "code",
      "source": [
        "pip install PyQt5"
      ],
      "metadata": {
        "colab": {
          "base_uri": "https://localhost:8080/"
        },
        "id": "0ETPMIxH_TcA",
        "outputId": "11ec2c7b-7e31-4536-ea98-d7f2fa450680"
      },
      "execution_count": null,
      "outputs": [
        {
          "output_type": "stream",
          "name": "stdout",
          "text": [
            "Looking in indexes: https://pypi.org/simple, https://us-python.pkg.dev/colab-wheels/public/simple/\n",
            "Collecting PyQt5\n",
            "  Downloading PyQt5-5.15.7-cp37-abi3-manylinux1_x86_64.whl (8.4 MB)\n",
            "\u001b[K     |████████████████████████████████| 8.4 MB 3.4 MB/s \n",
            "\u001b[?25hCollecting PyQt5-sip<13,>=12.11\n",
            "  Downloading PyQt5_sip-12.11.0-cp37-cp37m-manylinux1_x86_64.whl (344 kB)\n",
            "\u001b[K     |████████████████████████████████| 344 kB 36.7 MB/s \n",
            "\u001b[?25hCollecting PyQt5-Qt5>=5.15.0\n",
            "  Downloading PyQt5_Qt5-5.15.2-py3-none-manylinux2014_x86_64.whl (59.9 MB)\n",
            "\u001b[K     |████████████████████████████████| 59.9 MB 1.3 MB/s \n",
            "\u001b[?25hInstalling collected packages: PyQt5-sip, PyQt5-Qt5, PyQt5\n",
            "Successfully installed PyQt5-5.15.7 PyQt5-Qt5-5.15.2 PyQt5-sip-12.11.0\n"
          ]
        }
      ]
    },
    {
      "cell_type": "code",
      "source": [
        "pip install opencv-python"
      ],
      "metadata": {
        "colab": {
          "base_uri": "https://localhost:8080/"
        },
        "id": "HUVrwCaN_WCv",
        "outputId": "f4dfe948-b952-4ed1-8eba-f23ea2384a56"
      },
      "execution_count": null,
      "outputs": [
        {
          "output_type": "stream",
          "name": "stdout",
          "text": [
            "Looking in indexes: https://pypi.org/simple, https://us-python.pkg.dev/colab-wheels/public/simple/\n",
            "Requirement already satisfied: opencv-python in /usr/local/lib/python3.7/dist-packages (4.6.0.66)\n",
            "Requirement already satisfied: numpy>=1.14.5 in /usr/local/lib/python3.7/dist-packages (from opencv-python) (1.21.6)\n"
          ]
        }
      ]
    },
    {
      "cell_type": "code",
      "source": [
        "pip install --upgrade imutils"
      ],
      "metadata": {
        "colab": {
          "base_uri": "https://localhost:8080/"
        },
        "id": "xHrcWjtv_YI6",
        "outputId": "1cd2cbbb-90a1-4ad2-87a7-fea18c87376e"
      },
      "execution_count": null,
      "outputs": [
        {
          "output_type": "stream",
          "name": "stdout",
          "text": [
            "Looking in indexes: https://pypi.org/simple, https://us-python.pkg.dev/colab-wheels/public/simple/\n",
            "Requirement already satisfied: imutils in /usr/local/lib/python3.7/dist-packages (0.5.4)\n"
          ]
        }
      ]
    },
    {
      "cell_type": "code",
      "source": [
        "pip install matplotlib"
      ],
      "metadata": {
        "colab": {
          "base_uri": "https://localhost:8080/"
        },
        "id": "9eNQopqZ_c9n",
        "outputId": "6a7d1531-1747-4187-92d8-3d0b0b4d0265"
      },
      "execution_count": null,
      "outputs": [
        {
          "output_type": "stream",
          "name": "stdout",
          "text": [
            "Looking in indexes: https://pypi.org/simple, https://us-python.pkg.dev/colab-wheels/public/simple/\n",
            "Requirement already satisfied: matplotlib in /usr/local/lib/python3.7/dist-packages (3.2.2)\n",
            "Requirement already satisfied: python-dateutil>=2.1 in /usr/local/lib/python3.7/dist-packages (from matplotlib) (2.8.2)\n",
            "Requirement already satisfied: numpy>=1.11 in /usr/local/lib/python3.7/dist-packages (from matplotlib) (1.21.6)\n",
            "Requirement already satisfied: pyparsing!=2.0.4,!=2.1.2,!=2.1.6,>=2.0.1 in /usr/local/lib/python3.7/dist-packages (from matplotlib) (3.0.9)\n",
            "Requirement already satisfied: kiwisolver>=1.0.1 in /usr/local/lib/python3.7/dist-packages (from matplotlib) (1.4.4)\n",
            "Requirement already satisfied: cycler>=0.10 in /usr/local/lib/python3.7/dist-packages (from matplotlib) (0.11.0)\n",
            "Requirement already satisfied: typing-extensions in /usr/local/lib/python3.7/dist-packages (from kiwisolver>=1.0.1->matplotlib) (4.1.1)\n",
            "Requirement already satisfied: six>=1.5 in /usr/local/lib/python3.7/dist-packages (from python-dateutil>=2.1->matplotlib) (1.15.0)\n"
          ]
        }
      ]
    },
    {
      "cell_type": "code",
      "source": [
        "pip install -U scikit-learn scipy matplotlib"
      ],
      "metadata": {
        "colab": {
          "base_uri": "https://localhost:8080/"
        },
        "id": "HI5lONl6_qtQ",
        "outputId": "b80d7eaf-6f1f-4840-bb32-4a049462beb4"
      },
      "execution_count": null,
      "outputs": [
        {
          "output_type": "stream",
          "name": "stdout",
          "text": [
            "Looking in indexes: https://pypi.org/simple, https://us-python.pkg.dev/colab-wheels/public/simple/\n",
            "Requirement already satisfied: scikit-learn in /usr/local/lib/python3.7/dist-packages (1.0.2)\n",
            "Requirement already satisfied: scipy in /usr/local/lib/python3.7/dist-packages (1.7.3)\n",
            "Requirement already satisfied: matplotlib in /usr/local/lib/python3.7/dist-packages (3.5.3)\n",
            "Requirement already satisfied: numpy>=1.14.6 in /usr/local/lib/python3.7/dist-packages (from scikit-learn) (1.21.6)\n",
            "Requirement already satisfied: threadpoolctl>=2.0.0 in /usr/local/lib/python3.7/dist-packages (from scikit-learn) (3.1.0)\n",
            "Requirement already satisfied: joblib>=0.11 in /usr/local/lib/python3.7/dist-packages (from scikit-learn) (1.2.0)\n",
            "Requirement already satisfied: fonttools>=4.22.0 in /usr/local/lib/python3.7/dist-packages (from matplotlib) (4.38.0)\n",
            "Requirement already satisfied: pyparsing>=2.2.1 in /usr/local/lib/python3.7/dist-packages (from matplotlib) (3.0.9)\n",
            "Requirement already satisfied: pillow>=6.2.0 in /usr/local/lib/python3.7/dist-packages (from matplotlib) (7.1.2)\n",
            "Requirement already satisfied: kiwisolver>=1.0.1 in /usr/local/lib/python3.7/dist-packages (from matplotlib) (1.4.4)\n",
            "Requirement already satisfied: python-dateutil>=2.7 in /usr/local/lib/python3.7/dist-packages (from matplotlib) (2.8.2)\n",
            "Requirement already satisfied: packaging>=20.0 in /usr/local/lib/python3.7/dist-packages (from matplotlib) (21.3)\n",
            "Requirement already satisfied: cycler>=0.10 in /usr/local/lib/python3.7/dist-packages (from matplotlib) (0.11.0)\n",
            "Requirement already satisfied: typing-extensions in /usr/local/lib/python3.7/dist-packages (from kiwisolver>=1.0.1->matplotlib) (4.1.1)\n",
            "Requirement already satisfied: six>=1.5 in /usr/local/lib/python3.7/dist-packages (from python-dateutil>=2.7->matplotlib) (1.15.0)\n"
          ]
        }
      ]
    },
    {
      "cell_type": "code",
      "source": [
        "pip install mahotas"
      ],
      "metadata": {
        "colab": {
          "base_uri": "https://localhost:8080/"
        },
        "id": "DtvbsVD__r-P",
        "outputId": "ae87401d-846a-4e81-d00e-586311108aa8"
      },
      "execution_count": null,
      "outputs": [
        {
          "output_type": "stream",
          "name": "stdout",
          "text": [
            "Looking in indexes: https://pypi.org/simple, https://us-python.pkg.dev/colab-wheels/public/simple/\n",
            "Collecting mahotas\n",
            "  Downloading mahotas-1.4.13-cp37-cp37m-manylinux_2_12_x86_64.manylinux2010_x86_64.whl (5.7 MB)\n",
            "\u001b[K     |████████████████████████████████| 5.7 MB 3.8 MB/s \n",
            "\u001b[?25hRequirement already satisfied: numpy in /usr/local/lib/python3.7/dist-packages (from mahotas) (1.21.6)\n",
            "Installing collected packages: mahotas\n",
            "Successfully installed mahotas-1.4.13\n"
          ]
        }
      ]
    },
    {
      "cell_type": "code",
      "source": [
        "from PyQt5 import QtCore, QtGui, QtWidgets\n",
        "import numpy as np\n",
        "from keras.preprocessing import image\n",
        "from keras.models import Sequential\n",
        "from keras.layers import Dense\n",
        "from keras.models import model_from_json\n",
        "from keras.models import Sequential"
      ],
      "metadata": {
        "id": "F1uc-Q_H_4A4"
      },
      "execution_count": null,
      "outputs": []
    },
    {
      "cell_type": "code",
      "source": [
        "#initialize nn\n",
        "from keras.layers import Conv2D\n",
        "from keras.layers import MaxPooling2D\n",
        "from keras.layers import Flatten"
      ],
      "metadata": {
        "id": "Es-TfPXeAITI"
      },
      "execution_count": null,
      "outputs": []
    },
    {
      "cell_type": "code",
      "source": [
        "from keras.preprocessing.image import ImageDataGenerator\n",
        "from keras.layers import BatchNormalization\n",
        "from keras.layers import Dropout"
      ],
      "metadata": {
        "id": "hqG5a94mAMwo"
      },
      "execution_count": null,
      "outputs": []
    },
    {
      "cell_type": "code",
      "source": [
        "import os\n",
        "import cv2"
      ],
      "metadata": {
        "id": "ZeMBj8xDARGt"
      },
      "execution_count": null,
      "outputs": []
    },
    {
      "cell_type": "code",
      "source": [
        "from imutils import contours\n",
        "from sklearn.cluster import KMeans\n",
        "from sklearn.cluster import spectral_clustering\n",
        "from sklearn.neural_network import MLPClassifier"
      ],
      "metadata": {
        "id": "upQP7q0ZATKK"
      },
      "execution_count": null,
      "outputs": []
    },
    {
      "cell_type": "code",
      "source": [
        "import csv\n",
        "import scipy\n",
        "import scipy.io as sio\n",
        "import imutils\n",
        "import os\n",
        "import mahotas as mt\n",
        "p=1;"
      ],
      "metadata": {
        "id": "6EABKh2zAZQC"
      },
      "execution_count": null,
      "outputs": []
    },
    {
      "cell_type": "code",
      "source": [
        "class Ui_MainWindow(object):\n",
        "    def setupUi(self, MainWindow):\n",
        "        MainWindow.setObjectName(\"MainWindow\")\n",
        "        MainWindow.resize(800, 600)\n",
        "        self.centralwidget = QtWidgets.QWidget(MainWindow)\n",
        "        self.centralwidget.setObjectName(\"centralwidget\")\n",
        "        self.BrowseImage = QtWidgets.QPushButton(self.centralwidget)\n",
        "        self.BrowseImage.setGeometry(QtCore.QRect(160, 370, 151, 51))\n",
        "        self.BrowseImage.setObjectName(\"BrowseImage\")\n",
        "        self.imageLbl = QtWidgets.QLabel(self.centralwidget)\n",
        "        self.imageLbl.setGeometry(QtCore.QRect(200, 80, 361, 261))\n",
        "        self.imageLbl.setFrameShape(QtWidgets.QFrame.Box)\n",
        "        self.imageLbl.setText(\"\")\n",
        "        self.imageLbl.setObjectName(\"imageLbl\")\n",
        "        self.label_2 = QtWidgets.QLabel(self.centralwidget)\n",
        "        self.label_2.setGeometry(QtCore.QRect(110, 20, 621, 20))\n",
        "        font = QtGui.QFont()\n",
        "        font.setFamily(\"Courier New\")\n",
        "        font.setPointSize(14)\n",
        "        font.setBold(True)\n",
        "        font.setWeight(75)\n",
        "        self.label_2.setFont(font)\n",
        "        self.label_2.setObjectName(\"label_2\")\n",
        "        self.Classify = QtWidgets.QPushButton(self.centralwidget)\n",
        "        self.Classify.setGeometry(QtCore.QRect(160, 450, 151, 51))\n",
        "        self.Classify.setObjectName(\"Classify\")\n",
        "        self.label = QtWidgets.QLabel(self.centralwidget)\n",
        "        self.label.setGeometry(QtCore.QRect(430, 370, 111, 16))\n",
        "        self.label.setObjectName(\"label\")\n",
        "        self.Training = QtWidgets.QPushButton(self.centralwidget)\n",
        "        self.Training.setGeometry(QtCore.QRect(400, 450, 151, 51))\n",
        "        self.Training.setObjectName(\"Training\")\n",
        "        self.textEdit = QtWidgets.QTextEdit(self.centralwidget)\n",
        "        self.textEdit.setGeometry(QtCore.QRect(400, 390, 211, 51))\n",
        "        self.textEdit.setObjectName(\"textEdit\")\n",
        "        MainWindow.setCentralWidget(self.centralwidget)\n",
        "        self.menubar = QtWidgets.QMenuBar(MainWindow)\n",
        "        self.menubar.setGeometry(QtCore.QRect(0, 0, 800, 26))\n",
        "        self.menubar.setObjectName(\"menubar\")\n",
        "        MainWindow.setMenuBar(self.menubar)\n",
        "        self.statusbar = QtWidgets.QStatusBar(MainWindow)\n",
        "        self.statusbar.setObjectName(\"statusbar\")\n",
        "        MainWindow.setStatusBar(self.statusbar)\n",
        "\n",
        "        self.retranslateUi(MainWindow)\n",
        "        QtCore.QMetaObject.connectSlotsByName(MainWindow)\n",
        "\n",
        "        self.BrowseImage.clicked.connect(self.loadImage)\n",
        "\n",
        "        self.Classify.clicked.connect(self.classifyFunction)\n",
        "\n",
        "        self.Training.clicked.connect(self.trainingFunction)      \n",
        "\n",
        "    def retranslateUi(self, MainWindow):\n",
        "        _translate = QtCore.QCoreApplication.translate\n",
        "        MainWindow.setWindowTitle(_translate(\"MainWindow\", \"MainWindow\"))\n",
        "        self.BrowseImage.setText(_translate(\"MainWindow\", \"Browse Image\"))\n",
        "        self.label_2.setText(_translate(\"MainWindow\", \"            COVID-19 DETECTION\"))\n",
        "        self.Classify.setText(_translate(\"MainWindow\", \"Classify\"))\n",
        "        self.label.setText(_translate(\"MainWindow\", \"Recognized Class\"))\n",
        "        self.Training.setText(_translate(\"MainWindow\", \"Training\"))\n",
        "\n",
        "    def loadImage(self):\n",
        "        fileName, _ = QtWidgets.QFileDialog.getOpenFileName(None, \"Select Image\", \"\", \"Image Files (*.png *.jpg *jpeg *.bmp);;All Files (*)\") # Ask for file\n",
        "        if fileName: # If the user gives a file\n",
        "            print(fileName)\n",
        "            self.file=fileName\n",
        "            pixmap = QtGui.QPixmap(fileName) # Setup pixmap with the provided image\n",
        "            pixmap = pixmap.scaled(self.imageLbl.width(), self.imageLbl.height(), QtCore.Qt.KeepAspectRatio) # Scale pixmap\n",
        "            self.imageLbl.setPixmap(pixmap) # Set the pixmap onto the label\n",
        "            self.imageLbl.setAlignment(QtCore.Qt.AlignCenter) # Align the label to center\n",
        "\n",
        "    def classifyFunction(self):\n",
        "        json_file = open('model.json', 'r')\n",
        "        loaded_model_json = json_file.read()\n",
        "        json_file.close()\n",
        "        loaded_model = model_from_json(loaded_model_json)\n",
        "        # load weights into new model\n",
        "        loaded_model.load_weights(\"model.h5\")\n",
        "        #loaded_model.load_weights(\"ResNet50-ft-10.model\")\n",
        "        print(\"Loaded model from disk\");\n",
        "        label=[\"Covid\",\"Normal\"]\n",
        "        path2=self.file\n",
        "        print(path2)\n",
        "        ########################\n",
        "        test_image = image.load_img(path2, target_size = (128, 128))        \n",
        "        test_image = image.img_to_array(test_image)\n",
        "        test_image = np.expand_dims(test_image, axis = 0)\n",
        "        result = loaded_model.predict(test_image)\n",
        "        print(result)\n",
        "        fresult=np.max(result)\n",
        "        label2=label[result.argmax()]\n",
        "        print(label2)\n",
        "        self.textEdit.setText(label2)\n",
        "\n",
        "    def trainingFunction(self):\n",
        "        self.textEdit.setText(\"Training under process...\")\n",
        "        #basic cnn\n",
        "        model = Sequential()\n",
        "        model.add(Conv2D(32, kernel_size = (3, 3), activation='relu', input_shape=(128,128, 3)))\n",
        "        model.add(MaxPooling2D(pool_size=(2,2)))\n",
        "        model.add(BatchNormalization())\n",
        "        model.add(Conv2D(64, kernel_size=(3,3), activation='relu'))\n",
        "        model.add(MaxPooling2D(pool_size=(2,2)))\n",
        "        model.add(BatchNormalization())\n",
        "        model.add(Conv2D(64, kernel_size=(3,3), activation='relu'))\n",
        "        model.add(MaxPooling2D(pool_size=(2,2)))\n",
        "        model.add(BatchNormalization())\n",
        "        model.add(Conv2D(96, kernel_size=(3,3), activation='relu'))\n",
        "        model.add(MaxPooling2D(pool_size=(2,2)))\n",
        "        model.add(BatchNormalization())\n",
        "        model.add(Conv2D(32, kernel_size=(3,3), activation='relu'))\n",
        "        model.add(MaxPooling2D(pool_size=(2,2)))\n",
        "        model.add(BatchNormalization())\n",
        "        model.add(Dropout(0.2))\n",
        "        model.add(Flatten())\n",
        "        model.add(Dense(128, activation='relu'))\n",
        "        model.add(Dropout(0.3))\n",
        "        model.add(Dense(2, activation = 'softmax'))\n",
        "\n",
        "        model.compile(optimizer = 'adam', loss = 'categorical_crossentropy', metrics = ['accuracy'])\n",
        "\n",
        "        train_datagen = ImageDataGenerator(rescale = None,\n",
        "                                           shear_range = 0.2,\n",
        "                                           zoom_range = 0.2,\n",
        "                                           horizontal_flip = True)\n",
        "\n",
        "        test_datagen = ImageDataGenerator(rescale = 1./255)\n",
        "\n",
        "        training_set = train_datagen.flow_from_directory('G:\\_Technology__Beyond_Dreams\\Deep_Learning\\Codes\\Final\\Corona_virus_detection\\TrainingDataset',\n",
        "                                                         target_size = (128, 128),\n",
        "                                                         batch_size = 8,\n",
        "                                                         class_mode = 'categorical')\n",
        "        #print(test_datagen);\n",
        "        labels = (training_set.class_indices)\n",
        "        print(labels)\n",
        "        \n",
        "\n",
        "        test_set = test_datagen.flow_from_directory('G:\\_Technology__Beyond_Dreams\\Deep_Learning\\Codes\\Final\\Corona_virus_detection\\TestingDataset',\n",
        "                                                    target_size = (128, 128),\n",
        "                                                    batch_size = 8,\n",
        "                                                    class_mode = 'categorical')\n",
        "\n",
        "        labels2 = (test_set.class_indices)\n",
        "        print(labels2)\n",
        "        #self.textEdit.setText(labels2)\n",
        "\n",
        "        model.fit_generator(training_set,\n",
        "                                 steps_per_epoch = 100,\n",
        "                                 epochs = 10,\n",
        "                                 validation_data = test_set,\n",
        "                                 validation_steps = 125)\n",
        "\n",
        "\n",
        "        # Part 3 - Making new predictions\n",
        "\n",
        "        model_json=model.to_json()\n",
        "        with open(\"model.json\", \"w\") as json_file:\n",
        "            json_file.write(model_json)\n",
        "        # serialize weights to HDF5\n",
        "            model.save_weights(\"model.h5\")\n",
        "            print(\"Saved model to disk\")\n",
        "            self.textEdit.setText(\"Saved model to disk\")\n",
        "\n",
        "        \n",
        "if __name__ == \"_main_\":\n",
        "    import sys\n",
        "    app = QtWidgets.QApplication(sys.argv)\n",
        "    MainWindow = QtWidgets.QMainWindow()\n",
        "    ui = Ui_MainWindow()\n",
        "    ui.setupUi(MainWindow)\n",
        "    MainWindow.show()\n",
        "    sys.exit(app.exec_())"
      ],
      "metadata": {
        "id": "m4bump_4NJHD"
      },
      "execution_count": 36,
      "outputs": []
    },
    {
      "cell_type": "code",
      "source": [],
      "metadata": {
        "id": "NRtm_HC3pXCh"
      },
      "execution_count": null,
      "outputs": []
    }
  ]
}